{
 "cells": [
  {
   "cell_type": "markdown",
   "metadata": {},
   "source": [
    "# Reading data into Pandas\n",
    "\n",
    "#### Data is read into dataframes - which are tables\n",
    "#### Data can be read from local files or from http:// locations"
   ]
  },
  {
   "cell_type": "code",
   "execution_count": null,
   "metadata": {
    "collapsed": false
   },
   "outputs": [],
   "source": [
    "import pandas as pd\n",
    "\n",
    "## Reading a CSV which has a header and an index (1st column has serial numbers)\n",
    "dataframe1 = pd.read_csv(\"D:\\Romi-Code\\Python-Code\\GyanMatrix-IGN\\ign.csv\",index_col=0, header=0)\n",
    "dataframe1.head()\n",
    "## Reading a NON CSV which has does not have a header \n",
    "#dataframe2 = pd.read_table(\"D:\\Romi-Code\\Python-Code\\sample.tsv\",sep = '\\t', header=None)\n",
    "\n",
    "## Reading a file from internet\n",
    "#ufo = pd.read_csv(\"http://bit.ly/uforeports\")\n",
    "\n",
    "\n",
    "## skiprows=None or x\n",
    "## skipfooter=None or x\n",
    "\n",
    "\n",
    "## No Header File\n",
    "##### - Method 1 \n",
    "#columns_list = [\"Col1\", \"Col2\",\"Col3\",\"Col4\",\"Col5\",\"Col6\",]\n",
    "#dataframe2.columns = columns_list\n",
    "\n",
    "#### - Method 2  - heade = 0 means header is in 0 record.\n",
    "#dataframe2 = pd.read_table(\"D:\\Romi-Code\\Python-Code\\sample.tsv\",sep = '\\t', header=None,names=columns_list)\n",
    "\n",
    "\n",
    "### Read only a few a columns from csv - usecols\n",
    "#dataframe2 = pd.read_table(\"D:\\Romi-Code\\Python-Code\\sample.tsv\",sep = '\\t', header=None,names=columns_list, usecols=[0,4])\n",
    "\n",
    "## Speed up reading a csv file  - only read 100 records\n",
    "#dataframe2 = pd.read_table(\"D:\\Romi-Code\\Python-Code\\sample.tsv\",sep = '\\t', header=None,names=columns_list,nrows=100)\n",
    "\n",
    "## Read data from series and iterate\n",
    "for c in ufo.city\n",
    "    print(c)\n",
    "    \n",
    "## for data from dataframe and iterate\n",
    "for index, row in ufo.iteraterows():\n",
    "    print(index, row.city, row.state)\n",
    "    \n",
    "    \n",
    "## Only keep the numeric columns\n",
    "import numpy as np\n",
    "dataframe.select_dtypes(include[np.number])\n",
    "\n",
    "\n",
    "    \n",
    "    \n",
    "\n"
   ]
  },
  {
   "cell_type": "markdown",
   "metadata": {},
   "source": [
    "## Select a Pandas series from a dataframe\n",
    "\n",
    "1) You can use dataframe and dot(.) for columns which donot have space in its name\n",
    "2) Yo need to use dataframe[\"column\"] for columns which may or may not have a space in its name\n",
    "\n",
    "\n",
    "\n",
    "### Tip - In Notebook - Shift + Tab 4 times will bring up help menu for the function or the attribute\n"
   ]
  },
  {
   "cell_type": "code",
   "execution_count": null,
   "metadata": {
    "collapsed": false
   },
   "outputs": [],
   "source": [
    "print type(ufo)\n",
    "ufo.dtypes\n",
    "ufo.shape\n",
    "ufo.columns\n",
    "#print ufo.head()\n",
    "#print ufo.City\n",
    "#print ufo[\"Shape Reported\"]\n",
    "#print ufo.describe(include=[\"object\"])\n"
   ]
  },
  {
   "cell_type": "markdown",
   "metadata": {
    "collapsed": true
   },
   "source": [
    "### Find all columns in a df\n",
    "\n",
    "df.columns\n",
    "\n",
    "\n",
    "## Rename Columns\n",
    "\n",
    "ufo.rename(columns={\"Old Col Name1\" : \"New Col Name1\", \"Old Col Name2\" : \"New Col Name2\", inplace=True })\n",
    "\n",
    "## Simpler way to update all columns  - Must provide new cols for all old cols even if you want to keep them same\n",
    "ufo_cols[\"new col 1\", \"new col 2\", \"new col 3\"]\n",
    "\n",
    "ufo.columns = ufo_cols\n",
    "\n",
    "\n",
    "## Replace space from all cols in dataframe with underscrores\n",
    "ufo.columns = ufo.columns.str.replace(' ', '_')\n",
    "\n",
    "\n",
    "\n",
    "\n",
    "### Remove cols from dataframe  axis=0(default) is for row and axis=1 is for Col\n",
    "ufo.drop(\"Colors Reported\", axis=1, inplace=True)\n",
    "ufo.drop([\"Colors Reported\", \"City\"], axis=1, inplace=True)\n",
    "\n",
    "##### Removing 0 and 1 row from dataframe\n",
    "ufo.drop([0,1],axis=0,inplace=True)\n",
    "\n",
    "\n",
    "\n",
    "### Series is a col in dataframe - Sort movies dataframe on title col in desc order - Does not change the order in dataframe but only in the view\n",
    "movies.title.sort_values(ascending=False)\n",
    "\n",
    "### Series is a col in dataframe - Sort movies dataframe on title col in desc order \n",
    "movies[\"title\"].sort_values()\n",
    "\n",
    "\n",
    "#### To sort the dataframe on a col - To permanently sort, mention \"inplace=True\"\n",
    "movies.sort_values([\"title\",\"duration\"], ascending=False)\n",
    "\n",
    "\n",
    "## Filter records in dataframe by col value   --- movies.duration >=200 creates series of boolens the same size of dataframe\n",
    "\n",
    "movies[movies[\"duration\"]>=200]\n",
    "movies[movies.duration >=200]    \n",
    "\n",
    "\n",
    "## Get just the single col \n",
    "movies[movies.duration >=200]    \n",
    "\n",
    "\n",
    "### Filtering with multiple columns\n",
    "movies[(movies[\"duration\"]>=200) & (movies[\"ratings\"]>=6)]\n",
    "\n",
    "movies[(movies[\"duration\"]>=200) | (movies[\"ratings\"]>=6)]\n",
    "\n",
    "movies[(movies[\"duration\"]>=200) | ( (movies[\"genre\"]== 'Drama') | (movies[\"ratings\"]>=6) ) ]\n",
    "\n",
    "movies[movies[\"genre\"].isin(\"Drama\", \"Action\", \"Romance\")]\n",
    "\n"
   ]
  },
  {
   "cell_type": "markdown",
   "metadata": {},
   "source": [
    "## Find Number of duplicates in a column\n",
    "\n",
    "df.column_name.duplicated().sum()\n",
    "\n",
    "\n",
    "### Axis to Drop column or Row\n",
    "\n",
    "#Axis zeeRow (0) is for a row \n",
    "#Axis oNE(1)     is for a columNE\n",
    "\n",
    "\n",
    "dataframe.mean() ## This will generate mean for all Numeric cols in the dataframe\n",
    "## default axis for mean is 0\n",
    "\n",
    "#axis(0) has alias axis('index')\n",
    "#axis(0) has alias axis('columns')\n",
    "\n"
   ]
  },
  {
   "cell_type": "markdown",
   "metadata": {},
   "source": [
    "## String Operations\n",
    "#To use string methods on Pandas series, you must use df.col.str.method()\n",
    "\n",
    "\n",
    "#dataframe.column.str.upper()\n",
    "\n",
    "\n",
    "## You can filter the dataframe also\n",
    "\n",
    "#dataframe[dataframe.colname.str.contain['Chicken','Mouse']]\n",
    "\n",
    "\n",
    "## Remove special characters from a col\n",
    "dataframe[dataframe.col.str.replace('[','').str.replace(']','')]\n",
    "\n",
    "\n",
    "##OR you can use regular expressions \n",
    "dataframe[dataframe.col.str.replace('[\\[\\]]','')\n"
   ]
  },
  {
   "cell_type": "markdown",
   "metadata": {},
   "source": [
    "## Convert datatypes\n",
    "\n",
    "dataframe.column.astype(float)\n",
    "\n",
    "\n",
    "## Change datatype even before reading the csv\n",
    "\n",
    "df = pd.read_csv('my.csv', dtype ={'colname':dtype})\n",
    "\n",
    "df.Stringcol.str.replace('$','').astype(float).mean()\n",
    "\n",
    "\n",
    "\n",
    "# Very helpful for analysis \n",
    "##convert the True False in a series to 0 or 1\n",
    "\n",
    "df.col.str.contrains('Chicken').astype(int).head()\n",
    "    \n",
    "\n"
   ]
  },
  {
   "cell_type": "markdown",
   "metadata": {},
   "source": [
    "## group By\n",
    "\n",
    "dataframe.groupby('col').coltouse.mean()\n",
    "dataframe.groupby('col').coltouse.max()\n",
    "dataframe.groupby('col').coltouse.min()\n",
    "\n",
    "## Use multiple aggregation functions at once on a single col\n",
    "dataframe.groupby('col').coltouse.agg(['count',',min','max','mean'])\n",
    "\n",
    "## Use single aggregation functions on multiple columns (numeric only)\n",
    "dataframe.groupby('col').mean()\n",
    "\n",
    "\n",
    "\n",
    "\n",
    "## Explore a series\n",
    "\n",
    "\n",
    "### df.col.describe()\n",
    "\n",
    "### df.col.value_counts()\n",
    "\n",
    "### df.col.value_counts(normalize=True)  ## Will get the percentage\n",
    "\n",
    "df.col.unique()  ## Returns all unique values in the col\n",
    "df.col.nunique()  ## Returns the number of unique values in the col\n",
    "\n",
    "\n",
    "## histogram shows you the distribution of a numerical col\n",
    "##df.col.plot(kind='hist')\n",
    "\n",
    "\n",
    "## Crosstab\n",
    "\n",
    "\n",
    "##  pd.crosstab(df.col1, df.col2)  # this will display the dataframe with 1 col  as row and 2nd as col with all values shown - very nice for analysis\n",
    "\n",
    "## See example below\n"
   ]
  },
  {
   "cell_type": "code",
   "execution_count": null,
   "metadata": {
    "collapsed": false
   },
   "outputs": [],
   "source": [
    "import pandas as pd\n",
    "movies = pd.read_csv('http://bit.ly/imdbratings')\n",
    "\n",
    "pd.crosstab(movies.genre,movies.content_rating)\n",
    "movies.columns"
   ]
  },
  {
   "cell_type": "markdown",
   "metadata": {},
   "source": [
    "## Handle missing values in df\n",
    "###### NaN stands for Not a Number but indicates that a value is missing\n",
    "\n",
    "\n",
    "##df.isnull().tail\n",
    "##df.notnull().tail\n",
    "\n",
    "### Find number of missing values in each col\n",
    "\n",
    "df.isnull().sum()  \n",
    "\n",
    "\n",
    "### view only those records where a value for a particular col is missing\n",
    "\n",
    "##df[df.col.isnull()]\n",
    "\n",
    "\n",
    "### Drop all records where ANY col contains a null value\n",
    "df.dropna(how='any')\n",
    "df.dropna(how='any', inplace=True)\n",
    "\n",
    "### Drop all records where ALL col contains a null value\n",
    "df.dropna(how='all', inplace=True)\n",
    "\n",
    "### Drop records if the cols x OR y contain null values\n",
    "#### Use subset with any\n",
    "\n",
    "df.dropna(subset=['col1','col2'],how='any', inplace=True)\n",
    "\n",
    "### Only Drop a record if the cols x AND y contain null values\n",
    "#### Use subset with ALL\n",
    "\n",
    "df.dropna(subset=['col1','col2'],how='all', inplace=True)\n",
    "\n",
    "\n",
    "\n",
    "## Count all values in a col - including null values\n",
    "\n",
    "df[col].value_counts(dropna=False)\n",
    "\n",
    "\n",
    "\n",
    "\n",
    "\n",
    "\n",
    "\n",
    "\n"
   ]
  },
  {
   "cell_type": "markdown",
   "metadata": {},
   "source": [
    "## Pandas Index\n",
    "#### Change the index  for a dataframe\n",
    "df.set_index('col',inplace=True)\n",
    "\n",
    "\n",
    "## Find a value for a particular row and col\n",
    "df.loc['index','col']\n",
    "\n",
    "\n",
    "## Remove the name of the index  - which appears at the 2nd row and the 1st col\n",
    "\n",
    "df.index.name = None\n",
    "\n",
    "\n",
    "## Add back the index name\n",
    "\n",
    "df.index.name = 'column name'\n",
    "\n",
    "\n",
    "## Use the default index and move the col back to dataframe\n",
    "\n",
    "###### Add back the index if you have removed the name\n",
    "df.index.name = 'column name'\n",
    "df.reset_index(inplace=True)\n",
    "\n",
    "\n",
    "\n",
    "## tip\n",
    "describe returns a series\n",
    "df.describe().index  - count, mean and others returned - coz those are the indices\n",
    "df.describe().columns\n",
    "\n",
    "\n",
    "#### If a df has an index, and a single col is selected then the col will appear with the index\n",
    "\n",
    "df.col.head()\n",
    "\n",
    "df.col.values_count()  - Will display the col name and the number of values for each of that\n",
    "df.col.values_count().values - will display only the vlues in an array and will not show the col names\n",
    "\n",
    "df.col.values_count().values['index']  - returns only the counts value for a particular index\n",
    "\n",
    "\n",
    "## Create a series and use it  - see below\n",
    "\n"
   ]
  },
  {
   "cell_type": "code",
   "execution_count": null,
   "metadata": {
    "collapsed": false
   },
   "outputs": [],
   "source": [
    "\n",
    "people = pd.Series([35000,25000],index=['Albania','Andorra'], name = 'population')\n",
    "people\n",
    "\n",
    "drinks=pd.read_csv('http://bit.ly/drinksbycountry')\n",
    "drinks.set_index('country',inplace=True)\n",
    "print drinks.beer_servings\n",
    "print drinks.beer_servings * people \n",
    "\n",
    "## Notice that the series values were only multiplied for the countries present in the df as well as created series\n",
    "    \n",
    "    "
   ]
  },
  {
   "cell_type": "code",
   "execution_count": 9,
   "metadata": {
    "collapsed": false
   },
   "outputs": [
    {
     "data": {
      "text/html": [
       "<div>\n",
       "<table border=\"1\" class=\"dataframe\">\n",
       "  <thead>\n",
       "    <tr style=\"text-align: right;\">\n",
       "      <th></th>\n",
       "      <th>beer_servings</th>\n",
       "      <th>spirit_servings</th>\n",
       "      <th>wine_servings</th>\n",
       "      <th>total_litres_of_pure_alcohol</th>\n",
       "      <th>continent</th>\n",
       "      <th>population</th>\n",
       "    </tr>\n",
       "  </thead>\n",
       "  <tbody>\n",
       "    <tr>\n",
       "      <th>Afghanistan</th>\n",
       "      <td>0</td>\n",
       "      <td>0</td>\n",
       "      <td>0</td>\n",
       "      <td>0.0</td>\n",
       "      <td>Asia</td>\n",
       "      <td>NaN</td>\n",
       "    </tr>\n",
       "    <tr>\n",
       "      <th>Albania</th>\n",
       "      <td>89</td>\n",
       "      <td>132</td>\n",
       "      <td>54</td>\n",
       "      <td>4.9</td>\n",
       "      <td>Europe</td>\n",
       "      <td>35000.0</td>\n",
       "    </tr>\n",
       "    <tr>\n",
       "      <th>Algeria</th>\n",
       "      <td>25</td>\n",
       "      <td>0</td>\n",
       "      <td>14</td>\n",
       "      <td>0.7</td>\n",
       "      <td>Africa</td>\n",
       "      <td>NaN</td>\n",
       "    </tr>\n",
       "    <tr>\n",
       "      <th>Andorra</th>\n",
       "      <td>245</td>\n",
       "      <td>138</td>\n",
       "      <td>312</td>\n",
       "      <td>12.4</td>\n",
       "      <td>Europe</td>\n",
       "      <td>25000.0</td>\n",
       "    </tr>\n",
       "    <tr>\n",
       "      <th>Angola</th>\n",
       "      <td>217</td>\n",
       "      <td>57</td>\n",
       "      <td>45</td>\n",
       "      <td>5.9</td>\n",
       "      <td>Africa</td>\n",
       "      <td>NaN</td>\n",
       "    </tr>\n",
       "  </tbody>\n",
       "</table>\n",
       "</div>"
      ],
      "text/plain": [
       "             beer_servings  spirit_servings  wine_servings  \\\n",
       "Afghanistan              0                0              0   \n",
       "Albania                 89              132             54   \n",
       "Algeria                 25                0             14   \n",
       "Andorra                245              138            312   \n",
       "Angola                 217               57             45   \n",
       "\n",
       "             total_litres_of_pure_alcohol continent  population  \n",
       "Afghanistan                           0.0      Asia         NaN  \n",
       "Albania                               4.9    Europe     35000.0  \n",
       "Algeria                               0.7    Africa         NaN  \n",
       "Andorra                              12.4    Europe     25000.0  \n",
       "Angola                                5.9    Africa         NaN  "
      ]
     },
     "execution_count": 9,
     "metadata": {},
     "output_type": "execute_result"
    }
   ],
   "source": [
    "pd.concat([drinks, people],axis=1).head()  # can concat row over rows or cols with cols  - New col added below"
   ]
  },
  {
   "cell_type": "markdown",
   "metadata": {},
   "source": [
    "## Select Multiple rows and cols from df\n",
    "\n",
    "\n",
    "## Selectec 0,1, 2, and 9,10  rows\n",
    "    drinks.loc[[0:2,9:10],:]\n",
    "\n",
    "\n"
   ]
  },
  {
   "cell_type": "code",
   "execution_count": 67,
   "metadata": {
    "collapsed": false
   },
   "outputs": [
    {
     "data": {
      "text/html": [
       "<div>\n",
       "<table border=\"1\" class=\"dataframe\">\n",
       "  <thead>\n",
       "    <tr style=\"text-align: right;\">\n",
       "      <th></th>\n",
       "      <th>beer_servings</th>\n",
       "    </tr>\n",
       "  </thead>\n",
       "  <tbody>\n",
       "    <tr>\n",
       "      <th>0</th>\n",
       "      <td>0</td>\n",
       "    </tr>\n",
       "    <tr>\n",
       "      <th>1</th>\n",
       "      <td>89</td>\n",
       "    </tr>\n",
       "    <tr>\n",
       "      <th>2</th>\n",
       "      <td>25</td>\n",
       "    </tr>\n",
       "  </tbody>\n",
       "</table>\n",
       "</div>"
      ],
      "text/plain": [
       "   beer_servings\n",
       "0              0\n",
       "1             89\n",
       "2             25"
      ]
     },
     "execution_count": 67,
     "metadata": {},
     "output_type": "execute_result"
    }
   ],
   "source": [
    "\n",
    "drinks = pd.read_csv('http://bit.ly/drinksbycountry')\n",
    "\n",
    "#drinks.loc[[0,1,2,9,10],:]\n",
    "\n",
    "#drinks.loc[0:2,:]\n",
    "\n",
    "#drinks.loc[:,['country','wine_servings']]\n",
    "#drinks.loc[:,'country':'wine_servings']\n",
    "\n",
    "\n",
    "### Same results - different ways\n",
    "#drinks.loc[0:2,'country':'total_litres_of_pure_alcohol']\n",
    "#drinks.head(3).drop('continent',axis=1)\n",
    "\n",
    "# loc is inclusive on both sides\n",
    "\n",
    "#drinks.loc[drinks.country == 'India','beer_servings' ]\n",
    "#drinks.loc[drinks.country == 'India','beer_servings': ]\n",
    "#drinks.loc[drinks.country == 'India',['beer_servings','continent'] ]\n",
    "\n",
    "## All rows but only cols 0 and 3\n",
    "# iloc is for selecting rows using their Integer positions thats what 'i'stands for\n",
    "\n",
    "\n",
    "#drinks.iloc[:,[0,3]]\n",
    "\n",
    "## Notice that whenever we are passing multi value list - we must use the [] to specify the list\n",
    "\n",
    "## iloc is inclusive of 1st param and exclusive of the 2nd param  \n",
    "#drinks.iloc[:,0:3]\n",
    "\n",
    "## Notice that whenever we are passing a : list - we must not use the [] to specify the param\n",
    "\n",
    "#Select top 2 row\n",
    "drinks.loc[0:2]\n",
    "\n",
    "\n",
    "#select only first 2 cols  - remember iloc is 2nd param exclusive so  0 and 1 cols will be displayed\n",
    "drinks.iloc[0:2,0:2]\n",
    "\n",
    "\n",
    "## Try to avoid ix - try to use loc  - ix use only when you need to use index - number and column names or otherwise\n",
    "\n",
    "## Use ix to get subset of data  - both sides inclusive for rows but right exclusive for cols\n",
    "#drinks.ix[1:2,0:2]\n",
    "\n",
    "#drinks.ix[0:2,1:2]\n",
    "\n",
    "\n",
    "## Fill in Null values  - bfill and ffill are most useful for time series data\n",
    "\n",
    "ufo.fillna(method='bfill').tail()\n",
    "\n",
    "ufo.fillna(method='ffill').tail()\n",
    "\n",
    "\n",
    "\n",
    "\n",
    "\n"
   ]
  },
  {
   "cell_type": "markdown",
   "metadata": {},
   "source": [
    "## Make df smaller and faster\n",
    "\n",
    "df.info(memory_usage='deep')\n",
    "drinks.memory_usage(deep=True)\n",
    "drinks.memory_usage(deep=True).sum()\n",
    "\n",
    "## Change the strings to category datatype and then check memory usage\n",
    "## Use this when no of distinct values is less\n",
    "drinks.continent.cat.codes.head()  # Replaces strings in the col with a code - Makes another look up with for code to string \n",
    "drinks.memory_usage(deep=True)\n",
    "\n",
    "\n",
    "\n",
    "## Do not use code to make a lookup if there are too many distinct values\n",
    "## Following should be avoided since there are 193 distnct string values in the country col\n",
    "print drinks.memory_usage(deep=True)\n",
    "drinks['countries']=drinks.country.astype('category')\n",
    "print drinks.memory_usage(deep=True)\n",
    "\n",
    "\n",
    "### Using category dataype will improve performance of operations like groupby  etc\n",
    "\n",
    "df={ID=[100,101,102,103], quality = ['good','very good','good', 'excellent']}\n",
    "\n",
    "\n",
    "\n",
    "\n",
    "\n",
    "\n",
    "\n",
    "\n",
    "\n"
   ]
  },
  {
   "cell_type": "code",
   "execution_count": 6,
   "metadata": {
    "collapsed": false
   },
   "outputs": [],
   "source": [
    "import pandas as pd\n",
    "df=pd.DataFrame({'ID':[100,101,102,103], 'quality' : ['good','very good','good', 'excellent']})"
   ]
  },
  {
   "cell_type": "code",
   "execution_count": 7,
   "metadata": {
    "collapsed": false
   },
   "outputs": [
    {
     "data": {
      "text/html": [
       "<div>\n",
       "<table border=\"1\" class=\"dataframe\">\n",
       "  <thead>\n",
       "    <tr style=\"text-align: right;\">\n",
       "      <th></th>\n",
       "      <th>ID</th>\n",
       "      <th>quality</th>\n",
       "    </tr>\n",
       "  </thead>\n",
       "  <tbody>\n",
       "    <tr>\n",
       "      <th>0</th>\n",
       "      <td>100</td>\n",
       "      <td>good</td>\n",
       "    </tr>\n",
       "    <tr>\n",
       "      <th>1</th>\n",
       "      <td>101</td>\n",
       "      <td>very good</td>\n",
       "    </tr>\n",
       "    <tr>\n",
       "      <th>2</th>\n",
       "      <td>102</td>\n",
       "      <td>good</td>\n",
       "    </tr>\n",
       "    <tr>\n",
       "      <th>3</th>\n",
       "      <td>103</td>\n",
       "      <td>excellent</td>\n",
       "    </tr>\n",
       "  </tbody>\n",
       "</table>\n",
       "</div>"
      ],
      "text/plain": [
       "    ID    quality\n",
       "0  100       good\n",
       "1  101  very good\n",
       "2  102       good\n",
       "3  103  excellent"
      ]
     },
     "execution_count": 7,
     "metadata": {},
     "output_type": "execute_result"
    }
   ],
   "source": [
    "df"
   ]
  },
  {
   "cell_type": "code",
   "execution_count": 8,
   "metadata": {
    "collapsed": false
   },
   "outputs": [
    {
     "data": {
      "text/html": [
       "<div>\n",
       "<table border=\"1\" class=\"dataframe\">\n",
       "  <thead>\n",
       "    <tr style=\"text-align: right;\">\n",
       "      <th></th>\n",
       "      <th>ID</th>\n",
       "      <th>quality</th>\n",
       "    </tr>\n",
       "  </thead>\n",
       "  <tbody>\n",
       "    <tr>\n",
       "      <th>3</th>\n",
       "      <td>103</td>\n",
       "      <td>excellent</td>\n",
       "    </tr>\n",
       "    <tr>\n",
       "      <th>0</th>\n",
       "      <td>100</td>\n",
       "      <td>good</td>\n",
       "    </tr>\n",
       "    <tr>\n",
       "      <th>2</th>\n",
       "      <td>102</td>\n",
       "      <td>good</td>\n",
       "    </tr>\n",
       "    <tr>\n",
       "      <th>1</th>\n",
       "      <td>101</td>\n",
       "      <td>very good</td>\n",
       "    </tr>\n",
       "  </tbody>\n",
       "</table>\n",
       "</div>"
      ],
      "text/plain": [
       "    ID    quality\n",
       "3  103  excellent\n",
       "0  100       good\n",
       "2  102       good\n",
       "1  101  very good"
      ]
     },
     "execution_count": 8,
     "metadata": {},
     "output_type": "execute_result"
    }
   ],
   "source": [
    "df.sort_values('quality')"
   ]
  },
  {
   "cell_type": "code",
   "execution_count": 9,
   "metadata": {
    "collapsed": true
   },
   "outputs": [],
   "source": [
    "df['quality'] = df['quality'].astype('category', categories=['good','very good','excellent'], ordered= True)"
   ]
  },
  {
   "cell_type": "code",
   "execution_count": 13,
   "metadata": {
    "collapsed": false
   },
   "outputs": [
    {
     "name": "stdout",
     "output_type": "stream",
     "text": [
      "    ID    quality\n",
      "0  100       good\n",
      "2  102       good\n",
      "1  101  very good\n",
      "3  103  excellent\n",
      "0         good\n",
      "1    very good\n",
      "2         good\n",
      "3    excellent\n",
      "Name: quality, dtype: category\n",
      "Categories (3, object): [good < very good < excellent]\n"
     ]
    }
   ],
   "source": [
    "print df.sort_values('quality')\n",
    "print df.quality\n"
   ]
  },
  {
   "cell_type": "code",
   "execution_count": 14,
   "metadata": {
    "collapsed": false
   },
   "outputs": [
    {
     "data": {
      "text/html": [
       "<div>\n",
       "<table border=\"1\" class=\"dataframe\">\n",
       "  <thead>\n",
       "    <tr style=\"text-align: right;\">\n",
       "      <th></th>\n",
       "      <th>ID</th>\n",
       "      <th>quality</th>\n",
       "    </tr>\n",
       "  </thead>\n",
       "  <tbody>\n",
       "    <tr>\n",
       "      <th>1</th>\n",
       "      <td>101</td>\n",
       "      <td>very good</td>\n",
       "    </tr>\n",
       "    <tr>\n",
       "      <th>3</th>\n",
       "      <td>103</td>\n",
       "      <td>excellent</td>\n",
       "    </tr>\n",
       "  </tbody>\n",
       "</table>\n",
       "</div>"
      ],
      "text/plain": [
       "    ID    quality\n",
       "1  101  very good\n",
       "3  103  excellent"
      ]
     },
     "execution_count": 14,
     "metadata": {},
     "output_type": "execute_result"
    }
   ],
   "source": [
    "df.loc[df.quality > 'good']"
   ]
  },
  {
   "cell_type": "markdown",
   "metadata": {},
   "source": [
    "## Pandas for Kaggle"
   ]
  },
  {
   "cell_type": "code",
   "execution_count": 2,
   "metadata": {
    "collapsed": false
   },
   "outputs": [
    {
     "data": {
      "text/html": [
       "<div>\n",
       "<table border=\"1\" class=\"dataframe\">\n",
       "  <thead>\n",
       "    <tr style=\"text-align: right;\">\n",
       "      <th></th>\n",
       "      <th>PassengerId</th>\n",
       "      <th>Survived</th>\n",
       "      <th>Pclass</th>\n",
       "      <th>Name</th>\n",
       "      <th>Sex</th>\n",
       "      <th>Age</th>\n",
       "      <th>SibSp</th>\n",
       "      <th>Parch</th>\n",
       "      <th>Ticket</th>\n",
       "      <th>Fare</th>\n",
       "      <th>Cabin</th>\n",
       "      <th>Embarked</th>\n",
       "    </tr>\n",
       "  </thead>\n",
       "  <tbody>\n",
       "    <tr>\n",
       "      <th>0</th>\n",
       "      <td>1</td>\n",
       "      <td>0</td>\n",
       "      <td>3</td>\n",
       "      <td>Braund, Mr. Owen Harris</td>\n",
       "      <td>male</td>\n",
       "      <td>22.0</td>\n",
       "      <td>1</td>\n",
       "      <td>0</td>\n",
       "      <td>A/5 21171</td>\n",
       "      <td>7.2500</td>\n",
       "      <td>NaN</td>\n",
       "      <td>S</td>\n",
       "    </tr>\n",
       "    <tr>\n",
       "      <th>1</th>\n",
       "      <td>2</td>\n",
       "      <td>1</td>\n",
       "      <td>1</td>\n",
       "      <td>Cumings, Mrs. John Bradley (Florence Briggs Th...</td>\n",
       "      <td>female</td>\n",
       "      <td>38.0</td>\n",
       "      <td>1</td>\n",
       "      <td>0</td>\n",
       "      <td>PC 17599</td>\n",
       "      <td>71.2833</td>\n",
       "      <td>C85</td>\n",
       "      <td>C</td>\n",
       "    </tr>\n",
       "    <tr>\n",
       "      <th>2</th>\n",
       "      <td>3</td>\n",
       "      <td>1</td>\n",
       "      <td>3</td>\n",
       "      <td>Heikkinen, Miss. Laina</td>\n",
       "      <td>female</td>\n",
       "      <td>26.0</td>\n",
       "      <td>0</td>\n",
       "      <td>0</td>\n",
       "      <td>STON/O2. 3101282</td>\n",
       "      <td>7.9250</td>\n",
       "      <td>NaN</td>\n",
       "      <td>S</td>\n",
       "    </tr>\n",
       "    <tr>\n",
       "      <th>3</th>\n",
       "      <td>4</td>\n",
       "      <td>1</td>\n",
       "      <td>1</td>\n",
       "      <td>Futrelle, Mrs. Jacques Heath (Lily May Peel)</td>\n",
       "      <td>female</td>\n",
       "      <td>35.0</td>\n",
       "      <td>1</td>\n",
       "      <td>0</td>\n",
       "      <td>113803</td>\n",
       "      <td>53.1000</td>\n",
       "      <td>C123</td>\n",
       "      <td>S</td>\n",
       "    </tr>\n",
       "    <tr>\n",
       "      <th>4</th>\n",
       "      <td>5</td>\n",
       "      <td>0</td>\n",
       "      <td>3</td>\n",
       "      <td>Allen, Mr. William Henry</td>\n",
       "      <td>male</td>\n",
       "      <td>35.0</td>\n",
       "      <td>0</td>\n",
       "      <td>0</td>\n",
       "      <td>373450</td>\n",
       "      <td>8.0500</td>\n",
       "      <td>NaN</td>\n",
       "      <td>S</td>\n",
       "    </tr>\n",
       "  </tbody>\n",
       "</table>\n",
       "</div>"
      ],
      "text/plain": [
       "   PassengerId  Survived  Pclass  \\\n",
       "0            1         0       3   \n",
       "1            2         1       1   \n",
       "2            3         1       3   \n",
       "3            4         1       1   \n",
       "4            5         0       3   \n",
       "\n",
       "                                                Name     Sex   Age  SibSp  \\\n",
       "0                            Braund, Mr. Owen Harris    male  22.0      1   \n",
       "1  Cumings, Mrs. John Bradley (Florence Briggs Th...  female  38.0      1   \n",
       "2                             Heikkinen, Miss. Laina  female  26.0      0   \n",
       "3       Futrelle, Mrs. Jacques Heath (Lily May Peel)  female  35.0      1   \n",
       "4                           Allen, Mr. William Henry    male  35.0      0   \n",
       "\n",
       "   Parch            Ticket     Fare Cabin Embarked  \n",
       "0      0         A/5 21171   7.2500   NaN        S  \n",
       "1      0          PC 17599  71.2833   C85        C  \n",
       "2      0  STON/O2. 3101282   7.9250   NaN        S  \n",
       "3      0            113803  53.1000  C123        S  \n",
       "4      0            373450   8.0500   NaN        S  "
      ]
     },
     "execution_count": 2,
     "metadata": {},
     "output_type": "execute_result"
    }
   ],
   "source": [
    "import pandas as pd\n",
    "# Read in the Titanic subset for training\n",
    "train = pd.read_csv('http://bit.ly/kaggletrain')\n",
    "train.head()"
   ]
  },
  {
   "cell_type": "code",
   "execution_count": 8,
   "metadata": {
    "collapsed": false
   },
   "outputs": [],
   "source": [
    "#Craete a new list which will be used for features\n",
    "features_cols = ['Pclass','Parch']"
   ]
  },
  {
   "cell_type": "code",
   "execution_count": 9,
   "metadata": {
    "collapsed": false
   },
   "outputs": [
    {
     "data": {
      "text/plain": [
       "(891, 2)"
      ]
     },
     "execution_count": 9,
     "metadata": {},
     "output_type": "execute_result"
    }
   ],
   "source": [
    "x=train.loc[:,features_cols]\n",
    "x.shape"
   ]
  },
  {
   "cell_type": "code",
   "execution_count": 10,
   "metadata": {
    "collapsed": false
   },
   "outputs": [],
   "source": [
    "y = train.Survived"
   ]
  },
  {
   "cell_type": "code",
   "execution_count": 11,
   "metadata": {
    "collapsed": true
   },
   "outputs": [],
   "source": [
    "## Scikit learn will understand if x and y are of proper shape \n",
    "from sklearn.linear_model import LogisticRegression\n",
    "\n",
    "logreg = LogisticRegression()\n",
    "logreg.fit(x,y)\n",
    "\n",
    "test=pd.read_csv('http://bit.ly/kaggletest')\n",
    "\n",
    "\n",
    "# Create a new dataset \n",
    "x_new = test.loc[:,features_cols]\n",
    "x_new.shape\n",
    "\n",
    "new_pred_class = logreg.predict(x_new)\n",
    "\n",
    "\n",
    "## We want to have PassengerId as first column so we use it as index\n",
    "pd.DataFrame({'PassengerId':test.PassengerId,'Survived':new_pred_class}).set_index('PassengerId').to_csv('sub.csv')\n",
    "\n",
    "\n",
    "\n",
    "\n"
   ]
  },
  {
   "cell_type": "markdown",
   "metadata": {},
   "source": [
    "## Save python object as file  - Following code will save train df as a file"
   ]
  },
  {
   "cell_type": "code",
   "execution_count": null,
   "metadata": {
    "collapsed": true
   },
   "outputs": [],
   "source": [
    "train.to_pickle('train.pkl')\n",
    "pd.read_pickle('train.pkl')"
   ]
  },
  {
   "cell_type": "code",
   "execution_count": null,
   "metadata": {
    "collapsed": true
   },
   "outputs": [],
   "source": [
    "train.sample(n=3,randomstate=42)  # use randomstate for \n",
    "train.sample(frac=0.2,randomstate=42)  # To get 20 % of the rows\n",
    "\n",
    "\n"
   ]
  }
 ],
 "metadata": {
  "anaconda-cloud": {},
  "kernelspec": {
   "display_name": "Python [conda root]",
   "language": "python",
   "name": "conda-root-py"
  }
 },
 "nbformat": 4,
 "nbformat_minor": 0
}
