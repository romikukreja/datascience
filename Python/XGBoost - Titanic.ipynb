{
 "cells": [
  {
   "cell_type": "markdown",
   "metadata": {},
   "source": [
    "Installation Instructions are on \n",
    "http://www.picnet.com.au/blogs/guido/post/2016/09/22/xgboost-windows-x64-binaries-for-download/"
   ]
  },
  {
   "cell_type": "code",
   "execution_count": 1,
   "metadata": {
    "collapsed": true
   },
   "outputs": [],
   "source": [
    "import xgboost as xg"
   ]
  },
  {
   "cell_type": "code",
   "execution_count": 2,
   "metadata": {},
   "outputs": [
    {
     "data": {
      "text/plain": [
       "'C:\\\\Users\\\\Romi\\\\Anaconda3\\\\envs\\\\Default\\\\lib\\\\site-packages\\\\xgboost-0.6-py3.6.egg\\\\xgboost\\\\VERSION'"
      ]
     },
     "execution_count": 2,
     "metadata": {},
     "output_type": "execute_result"
    }
   ],
   "source": [
    "xg.VERSION_FILE"
   ]
  },
  {
   "cell_type": "code",
   "execution_count": 6,
   "metadata": {
    "collapsed": true
   },
   "outputs": [],
   "source": [
    "import numpy as np\n",
    "import pandas as pd\n",
    "\n",
    "import matplotlib.pyplot as plt\n",
    "import seaborn as sns\n",
    "\n",
    "get_ipython().magic('matplotlib inline')\n",
    "sns.set(style='white', font_scale=0.9)\n",
    "\n",
    "#XGBoost imports\n",
    "import xgboost as xgb\n",
    "from xgboost.sklearn import XGBClassifier\n",
    "from sklearn import model_selection , metrics   #Additional scklearn functions\n",
    "from sklearn.model_selection import GridSearchCV   #Perforing grid search"
   ]
  },
  {
   "cell_type": "code",
   "execution_count": 1,
   "metadata": {},
   "outputs": [
    {
     "ename": "NameError",
     "evalue": "name 'pd' is not defined",
     "output_type": "error",
     "traceback": [
      "\u001b[1;31m---------------------------------------------------------------------------\u001b[0m",
      "\u001b[1;31mNameError\u001b[0m                                 Traceback (most recent call last)",
      "\u001b[1;32m<ipython-input-1-8bf695b614cc>\u001b[0m in \u001b[0;36m<module>\u001b[1;34m()\u001b[0m\n\u001b[1;32m----> 1\u001b[1;33m \u001b[0mdf_train\u001b[0m \u001b[1;33m=\u001b[0m \u001b[0mpd\u001b[0m\u001b[1;33m.\u001b[0m\u001b[0mread_csv\u001b[0m\u001b[1;33m(\u001b[0m\u001b[1;34m'train.csv'\u001b[0m\u001b[1;33m)\u001b[0m\u001b[1;33m\u001b[0m\u001b[0m\n\u001b[0m\u001b[0;32m      2\u001b[0m \u001b[0mdf_test\u001b[0m \u001b[1;33m=\u001b[0m \u001b[0mpd\u001b[0m\u001b[1;33m.\u001b[0m\u001b[0mread_csv\u001b[0m\u001b[1;33m(\u001b[0m\u001b[1;34m'test.csv'\u001b[0m\u001b[1;33m)\u001b[0m\u001b[1;33m\u001b[0m\u001b[0m\n\u001b[0;32m      3\u001b[0m \u001b[1;33m\u001b[0m\u001b[0m\n\u001b[0;32m      4\u001b[0m \u001b[1;31m#We will also create a total dataset for dealing with missing values\u001b[0m\u001b[1;33m\u001b[0m\u001b[1;33m\u001b[0m\u001b[0m\n\u001b[0;32m      5\u001b[0m \u001b[0mdf_total\u001b[0m \u001b[1;33m=\u001b[0m \u001b[0mdf_train\u001b[0m\u001b[1;33m.\u001b[0m\u001b[0mappend\u001b[0m\u001b[1;33m(\u001b[0m\u001b[0mdf_test\u001b[0m\u001b[1;33m)\u001b[0m\u001b[1;33m\u001b[0m\u001b[0m\n",
      "\u001b[1;31mNameError\u001b[0m: name 'pd' is not defined"
     ]
    }
   ],
   "source": [
    "df_train = pd.read_csv('train.csv')\n",
    "df_test = pd.read_csv('test.csv')\n",
    "\n",
    "#We will also create a total dataset for dealing with missing values\n",
    "df_total = df_train.append(df_test)\n"
   ]
  },
  {
   "cell_type": "code",
   "execution_count": null,
   "metadata": {
    "collapsed": true
   },
   "outputs": [],
   "source": [
    "df_train.head()"
   ]
  },
  {
   "cell_type": "code",
   "execution_count": 2,
   "metadata": {},
   "outputs": [
    {
     "ename": "NameError",
     "evalue": "name 'df_train' is not defined",
     "output_type": "error",
     "traceback": [
      "\u001b[1;31m---------------------------------------------------------------------------\u001b[0m",
      "\u001b[1;31mNameError\u001b[0m                                 Traceback (most recent call last)",
      "\u001b[1;32m<ipython-input-2-b8dd36586dae>\u001b[0m in \u001b[0;36m<module>\u001b[1;34m()\u001b[0m\n\u001b[1;32m----> 1\u001b[1;33m \u001b[0mdf_train\u001b[0m\u001b[1;33m.\u001b[0m\u001b[0minfo\u001b[0m\u001b[1;33m(\u001b[0m\u001b[1;33m)\u001b[0m\u001b[1;33m\u001b[0m\u001b[0m\n\u001b[0m",
      "\u001b[1;31mNameError\u001b[0m: name 'df_train' is not defined"
     ]
    }
   ],
   "source": [
    "df_train.info()"
   ]
  },
  {
   "cell_type": "code",
   "execution_count": null,
   "metadata": {
    "collapsed": true
   },
   "outputs": [],
   "source": [
    "df_train.groupby('Pclass')['Survived'].mean()"
   ]
  },
  {
   "cell_type": "code",
   "execution_count": null,
   "metadata": {
    "collapsed": true
   },
   "outputs": [],
   "source": [
    "sns.countplot(x='Pclass', data=df_train, hue='Survived', palette='deep')\n",
    "plt.show()"
   ]
  },
  {
   "cell_type": "code",
   "execution_count": null,
   "metadata": {
    "collapsed": true
   },
   "outputs": [],
   "source": [
    "df_train['Name'].head(10)"
   ]
  },
  {
   "cell_type": "code",
   "execution_count": null,
   "metadata": {
    "collapsed": true
   },
   "outputs": [],
   "source": [
    "df_train['Title'] = df_train['Name'].str.split(\".\").str[0]\n",
    "df_train['Title'] = df_train['Title'].str.split(\" \").str[-1]\n",
    "\n",
    "df_test['Title'] = df_test['Name'].str.split(\".\").str[0]\n",
    "df_test['Title'] = df_test['Title'].str.split(\" \").str[-1]\n",
    "\n",
    "#Drop name from the dataset\n",
    "df_train.drop('Name', axis=1, inplace=True)\n",
    "df_test.drop('Name', axis=1, inplace=True)"
   ]
  },
  {
   "cell_type": "code",
   "execution_count": null,
   "metadata": {
    "collapsed": true
   },
   "outputs": [],
   "source": [
    "df_train['Title'].value_counts()"
   ]
  },
  {
   "cell_type": "code",
   "execution_count": null,
   "metadata": {
    "collapsed": true
   },
   "outputs": [],
   "source": [
    "def updateTitle(s):\n",
    "    if s in ['Mlle', 'Ms', 'Mme']:\n",
    "        return 'Miss'\n",
    "    elif s in ['Mr', 'Miss', 'Mrs', 'Master']:\n",
    "        return s\n",
    "    else:\n",
    "        return 'Other'\n",
    "\n",
    "df_train['Title'] = df_train['Title'].apply(lambda x: updateTitle(x))\n",
    "\n",
    "df_test['Title'] = df_test['Title'].apply(lambda x: updateTitle(x))"
   ]
  },
  {
   "cell_type": "code",
   "execution_count": null,
   "metadata": {
    "collapsed": true
   },
   "outputs": [],
   "source": [
    "df_train.groupby('Title')['Survived'].mean()"
   ]
  },
  {
   "cell_type": "code",
   "execution_count": null,
   "metadata": {
    "collapsed": true
   },
   "outputs": [],
   "source": [
    "nNoSurvived = len(df_train[df_train['Survived'] == 0])\n",
    "nSurvived = len(df_train[df_train['Survived'] == 1])\n",
    "\n",
    "f, (ax1, ax2, ax3) = plt.subplots(1, 3, sharey=True, figsize=(9, 3))\n",
    "\n",
    "sns.barplot(x='Title', y='PassengerId', data=df_train, \n",
    "            estimator=lambda x: len(x) / (nSurvived + nNoSurvived) * 100,\n",
    "            ax=ax1, order=sorted(df_train['Title'].unique()), palette='deep')\n",
    "sns.barplot(x='Title', y='PassengerId', data=df_train[df_train['Survived'] == 0], \n",
    "            estimator=lambda x: len(x) / nNoSurvived * 100,\n",
    "            ax=ax2, order=sorted(df_train['Title'].unique()), palette='deep')\n",
    "sns.barplot(x='Title', y='PassengerId', data=df_train[df_train['Survived'] == 1], \n",
    "            estimator=lambda x: len(x) / nSurvived * 100,\n",
    "            ax=ax3, order=sorted(df_train['Title'].unique()), palette='deep')\n",
    "\n",
    "ax1.set_title('Overall')\n",
    "ax2.set_title('Not Survived')\n",
    "ax3.set_title('Survived')\n",
    "ax1.set_ylabel('Percentage')\n",
    "ax2.set_ylabel('')\n",
    "ax3.set_ylabel('')\n",
    "\n",
    "plt.tight_layout()\n",
    "plt.show()"
   ]
  },
  {
   "cell_type": "code",
   "execution_count": null,
   "metadata": {
    "collapsed": true
   },
   "outputs": [],
   "source": [
    "df_train.groupby('Sex')['Survived'].mean()"
   ]
  },
  {
   "cell_type": "code",
   "execution_count": null,
   "metadata": {
    "collapsed": true
   },
   "outputs": [],
   "source": [
    "df_train['Age'] = df_train['Age'].fillna(df_total['Age'].mean())\n",
    "df_test['Age'] = df_test['Age'].fillna(df_total['Age'].mean())"
   ]
  },
  {
   "cell_type": "code",
   "execution_count": null,
   "metadata": {
    "collapsed": true
   },
   "outputs": [],
   "source": [
    "f, (ax1, ax2) = plt.subplots(2, 1, figsize=(7, 5))\n",
    "\n",
    "sns.distplot(df_train[df_train['Survived'] == 0]['Age'].astype(int), bins=40, ax=ax1, kde=True)\n",
    "sns.distplot(df_train[df_train['Survived'] == 1]['Age'].astype(int), bins=40, ax=ax2, kde=True)\n",
    "\n",
    "ax1.set_title('Not Survived')\n",
    "ax2.set_title('Survived')\n",
    "\n",
    "ax1.set_xbound(lower=0, upper=100)\n",
    "ax2.set_xbound(lower=0, upper=100)\n",
    "\n",
    "plt.tight_layout()\n",
    "plt.show()"
   ]
  },
  {
   "cell_type": "code",
   "execution_count": null,
   "metadata": {
    "collapsed": true
   },
   "outputs": [],
   "source": [
    "df_train['Parch'].value_counts()"
   ]
  },
  {
   "cell_type": "code",
   "execution_count": null,
   "metadata": {
    "collapsed": true
   },
   "outputs": [],
   "source": [
    "df_train['SibSp'].value_counts()\n"
   ]
  },
  {
   "cell_type": "code",
   "execution_count": null,
   "metadata": {
    "collapsed": true
   },
   "outputs": [],
   "source": [
    "df_train.groupby('SibSp')['Survived'].mean()"
   ]
  },
  {
   "cell_type": "code",
   "execution_count": null,
   "metadata": {
    "collapsed": true
   },
   "outputs": [],
   "source": [
    "df_train.groupby('Parch')['Survived'].mean()"
   ]
  },
  {
   "cell_type": "code",
   "execution_count": null,
   "metadata": {
    "collapsed": true
   },
   "outputs": [],
   "source": [
    "df_train['FamilySize'] = df_train['SibSp'] + df_train['Parch'] \n",
    "df_test['FamilySize'] = df_test['SibSp'] + df_test['Parch'] \n",
    "\n",
    "df_train.drop('SibSp', axis=1, inplace=True)\n",
    "df_test.drop('SibSp', axis=1, inplace=True)\n",
    "\n",
    "df_train.drop('Parch', axis=1, inplace=True)\n",
    "df_test.drop('Parch', axis=1, inplace=True)"
   ]
  },
  {
   "cell_type": "code",
   "execution_count": null,
   "metadata": {
    "collapsed": true
   },
   "outputs": [],
   "source": [
    "df_train['FamilySize'] = df_train['FamilySize'].apply(lambda x: 4 if x > 4 else x)\n",
    "df_test['FamilySize'] = df_test['FamilySize'].apply(lambda x: 4 if x > 4 else x)"
   ]
  },
  {
   "cell_type": "code",
   "execution_count": null,
   "metadata": {
    "collapsed": true
   },
   "outputs": [],
   "source": [
    "df_train.groupby('FamilySize')['Survived'].mean()"
   ]
  },
  {
   "cell_type": "code",
   "execution_count": null,
   "metadata": {
    "collapsed": true
   },
   "outputs": [],
   "source": [
    "df_train['Ticket'] = df_train['Ticket'].str[0:1]\n",
    "df_test['Ticket'] = df_train['Ticket'].str[0:1]"
   ]
  },
  {
   "cell_type": "code",
   "execution_count": null,
   "metadata": {
    "collapsed": true
   },
   "outputs": [],
   "source": [
    "df_train.groupby('Ticket')['Survived'].mean()"
   ]
  },
  {
   "cell_type": "code",
   "execution_count": null,
   "metadata": {
    "collapsed": true
   },
   "outputs": [],
   "source": [
    "df_train['Fare'] = df_train['Fare'].fillna(df_total['Fare'].mean())\n",
    "df_test['Fare'] = df_test['Fare'].fillna(df_total['Fare'].mean())"
   ]
  },
  {
   "cell_type": "code",
   "execution_count": null,
   "metadata": {
    "collapsed": true
   },
   "outputs": [],
   "source": [
    "f, (ax1, ax2) = plt.subplots(2, 1, figsize=(7, 5))\n",
    "\n",
    "sns.distplot(df_train[df_train['Survived'] == 0]['Fare'].astype(int), bins=30, ax=ax1, kde=True)\n",
    "sns.distplot(df_train[df_train['Survived'] == 1]['Fare'].astype(int), bins=30, ax=ax2, kde=True)\n",
    "\n",
    "ax1.set_title('Not Survived')\n",
    "ax2.set_title('Survived')\n",
    "\n",
    "ax1.set_xbound(lower=0)\n",
    "ax2.set_xbound(lower=0)\n",
    "\n",
    "plt.tight_layout()\n",
    "plt.show()"
   ]
  },
  {
   "cell_type": "code",
   "execution_count": null,
   "metadata": {
    "collapsed": true
   },
   "outputs": [],
   "source": [
    "df_train.groupby('Survived')['Fare'].describe()"
   ]
  },
  {
   "cell_type": "code",
   "execution_count": null,
   "metadata": {
    "collapsed": true
   },
   "outputs": [],
   "source": [
    "df_train['Cabin'] = df_train['Cabin'].str[0]\n",
    "df_train['Cabin'] = df_train['Cabin'].fillna('Unknown')\n",
    "\n",
    "df_test['Cabin'] = df_test['Cabin'].str[0]\n",
    "df_test['Cabin'] = df_test['Cabin'].fillna('Unknown'"
   ]
  },
  {
   "cell_type": "code",
   "execution_count": null,
   "metadata": {
    "collapsed": true
   },
   "outputs": [],
   "source": [
    "df_train['Cabin'].value_counts()\n"
   ]
  },
  {
   "cell_type": "code",
   "execution_count": null,
   "metadata": {
    "collapsed": true
   },
   "outputs": [],
   "source": [
    "df_train.groupby('Cabin')['Survived'].mean()"
   ]
  },
  {
   "cell_type": "code",
   "execution_count": null,
   "metadata": {
    "collapsed": true
   },
   "outputs": [],
   "source": [
    "df_train['Embarked'] = df_train['Embarked'].fillna('S')\n",
    "df_test['Embarked'] = df_test['Embarked'].fillna('S')"
   ]
  },
  {
   "cell_type": "code",
   "execution_count": null,
   "metadata": {
    "collapsed": true
   },
   "outputs": [],
   "source": [
    "df_train.info()"
   ]
  },
  {
   "cell_type": "code",
   "execution_count": null,
   "metadata": {
    "collapsed": true
   },
   "outputs": [],
   "source": [
    "df_test.info()"
   ]
  },
  {
   "cell_type": "code",
   "execution_count": null,
   "metadata": {
    "collapsed": true
   },
   "outputs": [],
   "source": [
    "df_train_comb = df_train\n",
    "df_train_comb['TrainTest'] = 'Train'\n",
    "df_test_comb = df_test\n",
    "df_test_comb['TrainTest'] = 'Test'\n",
    "\n",
    "df_total = df_train_comb.append(df_test_comb)"
   ]
  },
  {
   "cell_type": "code",
   "execution_count": null,
   "metadata": {
    "collapsed": true
   },
   "outputs": [],
   "source": [
    "df_total = pd.get_dummies(df_total, drop_first=True)"
   ]
  },
  {
   "cell_type": "code",
   "execution_count": null,
   "metadata": {
    "collapsed": true
   },
   "outputs": [],
   "source": [
    "X_train = df_total[df_total['TrainTest_Train'] == 1].drop(['Survived', 'PassengerId'], axis=1)\n",
    "y_train = df_total[df_total['TrainTest_Train'] == 1]['Survived']\n",
    "\n",
    "X_test = df_total[df_total['TrainTest_Train'] == 0].drop(['Survived', 'PassengerId'], axis=1)"
   ]
  },
  {
   "cell_type": "code",
   "execution_count": null,
   "metadata": {
    "collapsed": true
   },
   "outputs": [],
   "source": [
    "param_grid1 = {'max_depth':range(3,10,1),\n",
    "               'min_child_weight':range(1,6,1)}\n",
    "\n",
    "model = XGBClassifier(learning_rate =0.1, \n",
    "                      n_estimators=140, \n",
    "                      max_depth=5,\n",
    "                      min_child_weight=1, \n",
    "                      gamma=0, \n",
    "                      subsample=0.8, \n",
    "                      colsample_bytree=0.8,\n",
    "                      objective= 'binary:logistic', \n",
    "                      nthread=4, \n",
    "                      scale_pos_weight=1, \n",
    "                      seed=29)\n",
    "\n",
    "grid1 = GridSearchCV(estimator=model, param_grid=param_grid1, scoring='roc_auc', n_jobs=-1, verbose=1)\n",
    "grid1.fit(X_train, y_train)\n",
    "\n",
    "print(grid1.best_score_)\n",
    "print(grid1.best_params_)"
   ]
  },
  {
   "cell_type": "code",
   "execution_count": null,
   "metadata": {
    "collapsed": true
   },
   "outputs": [],
   "source": [
    "param_grid2 = {'gamma':[i/10.0 for i in range(0,7)]}\n",
    "\n",
    "model = XGBClassifier(learning_rate =0.1, \n",
    "                      n_estimators=140, \n",
    "                      max_depth=4,\n",
    "                      min_child_weight=5, \n",
    "                      gamma=0, \n",
    "                      subsample=0.8, \n",
    "                      colsample_bytree=0.8,\n",
    "                      objective= 'binary:logistic', \n",
    "                      nthread=4, \n",
    "                      scale_pos_weight=1, \n",
    "                      seed=29)\n",
    "\n",
    "grid2 = GridSearchCV(estimator=model, param_grid=param_grid2, scoring='roc_auc', n_jobs=-1, verbose=1)\n",
    "grid2.fit(X_train, y_train)\n",
    "\n",
    "print(grid2.best_score_)\n",
    "print(grid2.best_params_)"
   ]
  },
  {
   "cell_type": "code",
   "execution_count": null,
   "metadata": {
    "collapsed": true
   },
   "outputs": [],
   "source": [
    "param_grid3 = {'subsample':[i/100.0 for i in range(60,100,5)],\n",
    "               'colsample_bytree':[i/100.0 for i in range(60,100,5)]}\n",
    "\n",
    "model = XGBClassifier(learning_rate =0.1, \n",
    "                      n_estimators=140, \n",
    "                      max_depth=4,\n",
    "                      min_child_weight=5, \n",
    "                      gamma=0.0, \n",
    "                      subsample=0.8, \n",
    "                      colsample_bytree=0.8,\n",
    "                      objective= 'binary:logistic', \n",
    "                      nthread=4, \n",
    "                      scale_pos_weight=1, \n",
    "                      seed=29)\n",
    "\n",
    "grid3 = GridSearchCV(estimator=model, param_grid=param_grid3, scoring='roc_auc', n_jobs=-1, verbose=1)\n",
    "grid3.fit(X_train, y_train)\n",
    "\n",
    "print(grid3.best_score_)\n",
    "print(grid3.best_params_)"
   ]
  },
  {
   "cell_type": "code",
   "execution_count": null,
   "metadata": {
    "collapsed": true
   },
   "outputs": [],
   "source": [
    "param_grid4 = {'reg_alpha':[1e-5, 1e-2, 0.1, 1, 100]}\n",
    "\n",
    "model = XGBClassifier(learning_rate =0.1, \n",
    "                      n_estimators=140, \n",
    "                      max_depth=4,\n",
    "                      min_child_weight=5, \n",
    "                      gamma=0, \n",
    "                      subsample=0.8, \n",
    "                      colsample_bytree=0.95,\n",
    "                      objective= 'binary:logistic', \n",
    "                      nthread=4, \n",
    "                      scale_pos_weight=1, \n",
    "                      seed=29)\n",
    "\n",
    "grid4 = GridSearchCV(estimator=model, param_grid=param_grid4, scoring='roc_auc', n_jobs=-1, verbose=1)\n",
    "grid4.fit(X_train, y_train)\n",
    "\n",
    "print(grid4.best_score_)\n",
    "print(grid4.best_params_)"
   ]
  },
  {
   "cell_type": "code",
   "execution_count": null,
   "metadata": {
    "collapsed": true
   },
   "outputs": [],
   "source": [
    "classifier = XGBClassifier(learning_rate =0.01, \n",
    "                      n_estimators=5000, \n",
    "                      max_depth=4,\n",
    "                      min_child_weight=5, \n",
    "                      gamma=0, \n",
    "                      subsample=0.8, \n",
    "                      colsample_bytree=0.95,\n",
    "                      reg_alpha=1e-05,\n",
    "                      objective= 'binary:logistic', \n",
    "                      nthread=4, \n",
    "                      scale_pos_weight=1, \n",
    "                      seed=29)\n",
    "\n",
    "classifier.fit(X_train, y_train)"
   ]
  },
  {
   "cell_type": "code",
   "execution_count": null,
   "metadata": {
    "collapsed": true
   },
   "outputs": [],
   "source": [
    "feature_import = pd.DataFrame.from_dict(classifier.booster().get_fscore(), orient='index')\n",
    "feature_import.columns = ['values']\n",
    "feature_import.sort_values(['values'], ascending=False, inplace=True)\n",
    "feature_import.reset_index(level=0, inplace=True)\n",
    "sns.barplot(x='index', y='values', data=feature_import, palette='deep')\n",
    "plt.xticks(rotation=90)\n",
    "plt.show()"
   ]
  },
  {
   "cell_type": "code",
   "execution_count": null,
   "metadata": {
    "collapsed": true
   },
   "outputs": [],
   "source": [
    "test_pred = classifier.predict(X_test)"
   ]
  }
 ],
 "metadata": {
  "kernelspec": {
   "display_name": "Python 3",
   "language": "python",
   "name": "python3"
  },
  "language_info": {
   "codemirror_mode": {
    "name": "ipython",
    "version": 3
   },
   "file_extension": ".py",
   "mimetype": "text/x-python",
   "name": "python",
   "nbconvert_exporter": "python",
   "pygments_lexer": "ipython3",
   "version": "3.6.1"
  }
 },
 "nbformat": 4,
 "nbformat_minor": 2
}
