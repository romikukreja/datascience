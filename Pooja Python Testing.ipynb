{
 "cells": [
  {
   "cell_type": "code",
   "execution_count": 4,
   "metadata": {
    "collapsed": false
   },
   "outputs": [
    {
     "name": "stdout",
     "output_type": "stream",
     "text": [
      "1\n"
     ]
    }
   ],
   "source": [
    "start=1\n",
    "stop = 2 # This will be subtracted by 1\n",
    "\n",
    "for x in range(start,stop):\n",
    "    print (x)"
   ]
  },
  {
   "cell_type": "code",
   "execution_count": null,
   "metadata": {
    "collapsed": true
   },
   "outputs": [],
   "source": []
  },
  {
   "cell_type": "code",
   "execution_count": null,
   "metadata": {
    "collapsed": true
   },
   "outputs": [],
   "source": []
  },
  {
   "cell_type": "code",
   "execution_count": 68,
   "metadata": {
    "collapsed": false
   },
   "outputs": [
    {
     "name": "stdout",
     "output_type": "stream",
     "text": [
      "Special:1\n",
      "Prime:1\n",
      "Prime:2\n",
      "Prime:3\n",
      "Not Prime:4\n",
      "Prime:5\n",
      "Not Prime:6\n",
      "Prime:7\n",
      "Not Prime:8\n",
      "Not Prime:9\n",
      "Not Prime:10\n",
      "Prime:11\n",
      "Not Prime:12\n",
      "Prime:13\n",
      "Not Prime:14\n",
      "Not Prime:15\n",
      "Not Prime:16\n",
      "Prime:17\n",
      "Not Prime:18\n",
      "Prime:19\n",
      "Not Prime:20\n",
      "Not Prime:21\n",
      "Not Prime:22\n",
      "Prime:23\n",
      "Not Prime:24\n",
      "Not Prime:25\n",
      "Not Prime:26\n"
     ]
    }
   ],
   "source": [
    "def poojatest(i):\n",
    "    if i == 1:\n",
    "        print \"Special:\" + str(i)\n",
    "\n",
    "    for k in range(2,i):\n",
    "        #print k\n",
    "        if i % k == 0:\n",
    "            print \"Not Prime:\" + str(i)\n",
    "            break\n",
    "    else:\n",
    "        print \"Prime:\" + str(i)\n",
    "\n",
    "for i in range(1,27):\n",
    "    poojatest(i)\n",
    "    \n"
   ]
  },
  {
   "cell_type": "code",
   "execution_count": 49,
   "metadata": {
    "collapsed": false
   },
   "outputs": [
    {
     "name": "stdout",
     "output_type": "stream",
     "text": [
      "2\n"
     ]
    }
   ],
   "source": [
    "for k in range(2,3):\n",
    "    print k"
   ]
  },
  {
   "cell_type": "code",
   "execution_count": 70,
   "metadata": {
    "collapsed": false
   },
   "outputs": [
    {
     "ename": "NameError",
     "evalue": "name 'poojatest1' is not defined",
     "output_type": "error",
     "traceback": [
      "\u001b[0;31m---------------------------------------------------------------------------\u001b[0m",
      "\u001b[0;31mNameError\u001b[0m                                 Traceback (most recent call last)",
      "\u001b[0;32m<ipython-input-70-043036fe2a70>\u001b[0m in \u001b[0;36m<module>\u001b[0;34m()\u001b[0m\n\u001b[1;32m      1\u001b[0m \u001b[1;32mfor\u001b[0m \u001b[0mi\u001b[0m \u001b[1;32min\u001b[0m \u001b[0mrange\u001b[0m\u001b[1;33m(\u001b[0m\u001b[1;36m1\u001b[0m\u001b[1;33m,\u001b[0m\u001b[1;36m27\u001b[0m\u001b[1;33m)\u001b[0m\u001b[1;33m:\u001b[0m\u001b[1;33m\u001b[0m\u001b[0m\n\u001b[0;32m----> 2\u001b[0;31m     \u001b[0mpoojatest1\u001b[0m\u001b[1;33m(\u001b[0m\u001b[0mi\u001b[0m\u001b[1;33m)\u001b[0m\u001b[1;33m\u001b[0m\u001b[0m\n\u001b[0m\u001b[1;32m      3\u001b[0m \u001b[1;33m\u001b[0m\u001b[0m\n\u001b[1;32m      4\u001b[0m \u001b[1;32mdef\u001b[0m \u001b[0mpoojatest1\u001b[0m\u001b[1;33m(\u001b[0m\u001b[0mi\u001b[0m\u001b[1;33m)\u001b[0m\u001b[1;33m:\u001b[0m\u001b[1;33m\u001b[0m\u001b[0m\n\u001b[1;32m      5\u001b[0m     \u001b[1;32mif\u001b[0m \u001b[0mi\u001b[0m \u001b[1;33m==\u001b[0m \u001b[1;36m1\u001b[0m\u001b[1;33m:\u001b[0m\u001b[1;33m\u001b[0m\u001b[0m\n",
      "\u001b[0;31mNameError\u001b[0m: name 'poojatest1' is not defined"
     ]
    }
   ],
   "source": [
    "for i in range(1,27):\n",
    "    poojatest1(i)\n",
    "    \n",
    "def poojatest1(i):\n",
    "    if i == 1:\n",
    "        print \"Special:\" + str(i)\n",
    "\n",
    "    for k in range(2,i):\n",
    "        #print k\n",
    "        if i % k == 0:\n",
    "            print \"Not Prime:\" + str(i)\n",
    "            break\n",
    "    else:\n",
    "        print \"Prime:\" + str(i)\n",
    "\n"
   ]
  },
  {
   "cell_type": "code",
   "execution_count": null,
   "metadata": {
    "collapsed": true
   },
   "outputs": [],
   "source": []
  }
 ],
 "metadata": {
  "anaconda-cloud": {},
  "kernelspec": {
   "display_name": "Python [conda root]",
   "language": "python",
   "name": "conda-root-py"
  },
  "language_info": {
   "codemirror_mode": {
    "name": "ipython",
    "version": 3
   },
   "file_extension": ".py",
   "mimetype": "text/x-python",
   "name": "python",
   "nbconvert_exporter": "python",
   "pygments_lexer": "ipython3",
   "version": "3.5.2"
  }
 },
 "nbformat": 4,
 "nbformat_minor": 0
}
