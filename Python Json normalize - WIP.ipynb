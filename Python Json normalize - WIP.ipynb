{
 "cells": [
  {
   "cell_type": "markdown",
   "metadata": {},
   "source": [
    "\n",
    "'''>>> data = [{'state': 'Florida',\n",
    "...          'shortname': 'FL',\n",
    "...          'info': {\n",
    "...               'governor': 'Rick Scott'\n",
    "...          },\n",
    "...          'counties': [{'name': 'Dade', 'population': 12345},\n",
    "...                      {'name': 'Broward', 'population': 40000},\n",
    "...                      {'name': 'Palm Beach', 'population': 60000}]},\n",
    "...         {'state': 'Ohio',\n",
    "...          'shortname': 'OH',\n",
    "...          'info': {\n",
    "...               'governor': 'John Kasich'\n",
    "...          },\n",
    "...          'counties': [{'name': 'Summit', 'population': 1234},\n",
    "...                       {'name': 'Cuyahoga', 'population': 1337}]}]\n",
    ">>> from pandas.io.json import json_normalize\n",
    ">>> result = json_normalize(data, 'counties', ['state', 'shortname',\n",
    "...                                           ['info', 'governor']])\n",
    ">>> result\n",
    "         name  population info.governor    state shortname\n",
    "0        Dade       12345    Rick Scott  Florida        FL\n",
    "1     Broward       40000    Rick Scott  Florida        FL\n",
    "2  Palm Beach       60000    Rick Scott  Florida        FL\n",
    "3      Summit        1234   John Kasich     Ohio        OH\n",
    "4    Cuyahoga        1337   John Kasich     Ohio        OH\n",
    "\n",
    "\n",
    "'''\n"
   ]
  },
  {
   "cell_type": "code",
   "execution_count": 57,
   "metadata": {
    "collapsed": false
   },
   "outputs": [
    {
     "name": "stdout",
     "output_type": "stream",
     "text": [
      "[{u'isNewToBank': False, u'accountList': [{u'description': u'Regular Savings Account', u'sortCode': 402578, u'customerId': u'8384692676375758', u'accountType': u'SAVINGS_ACCOUNT', u'currentBalance': 5000, u'nickName': u'John holiday savings', u'id': u'4051694345404902', u'accountNo': u'****8122'}, {u'description': u'Premier Current Account', u'overdraftLimit': 1500, u'sortCode': 112233, u'customerId': u'8384692676375758', u'accountType': u'CURRENT_ACCOUNT', u'currentBalance': 1500, u'nickName': u'John salary account', u'id': u'8253594415636011', u'card': {u'displayName': u'John Smith', u'maxSpend': 3000, u'expiryDate': u'01-01-2018 00:00:00 UTC', u'cardNumber': u'************4567', u'currentBalance': 500, u'type': u'DEBIT', u'customerId': u'8384692676375758'}, u'accountNo': u'****1258'}, {u'description': u'Barclaycard Platinum Credit Card Account', u'id': u'1945340430755308', u'accountType': u'CREDIT_CARD_ACCOUNT', u'nickName': u'John credit card', u'customerId': u'8384692676375758', u'card': {u'displayName': u'John Smith', u'maxSpend': 7000, u'expiryDate': u'01-01-2019 00:00:00 UTC', u'cardNumber': u'************9999', u'currentBalance': 1500, u'type': u'CREDIT', u'customerId': u'8384692676375758'}}], u'firstName': u'John', u'title': u'MR', u'lastName': u'Smith', u'mobileNo': u'07599458536', u'dateOfBirth': u'01-01-1983 00:00:00 UTC', u'nationalityCode': u'UK', u'address': {u'town': u'Altrincham', u'buildingName': u'', u'country': u'UK', u'number': u'3', u'street': u'Kensington Grove', u'postalCode': u'WA145BF'}, u'id': u'8384692676375758', u'middleNames': u''}]\n",
      "4051694345404902\n",
      "8253594415636011\n",
      "1945340430755308\n"
     ]
    }
   ],
   "source": [
    "from pandas.io.json import json_normalize\n",
    "\n",
    "import json\n",
    "\n",
    "with open(\"D:\\Downloads\\Fake Data\\BarclaysCustomers.json\") as json_data:\n",
    "    json_data = json.load(json_data)\n",
    "    print json_data\n",
    "\n",
    "\n",
    "i = 0\n",
    "#print (len(json_data[0]['accountList']))\n",
    "while i < (len(json_data[0]['accountList'])):\n",
    "    print(json_data[0]['accountList'][i]['id'])\n",
    "    i = i + 1\n",
    "#msgs = json_normalize(json_data)\n",
    "\n",
    "#result = json_normalize(json_data, record_path='accountList[accountNo]')\n",
    "\n",
    "#print(result)\n",
    "\n"
   ]
  },
  {
   "cell_type": "code",
   "execution_count": null,
   "metadata": {
    "collapsed": true
   },
   "outputs": [],
   "source": []
  },
  {
   "cell_type": "code",
   "execution_count": null,
   "metadata": {
    "collapsed": true
   },
   "outputs": [],
   "source": []
  },
  {
   "cell_type": "code",
   "execution_count": null,
   "metadata": {
    "collapsed": true
   },
   "outputs": [],
   "source": []
  }
 ],
 "metadata": {
  "anaconda-cloud": {},
  "kernelspec": {
   "display_name": "Python [Root]",
   "language": "python",
   "name": "Python [Root]"
  },
  "language_info": {
   "codemirror_mode": {
    "name": "ipython",
    "version": 2
   },
   "file_extension": ".py",
   "mimetype": "text/x-python",
   "name": "python",
   "nbconvert_exporter": "python",
   "pygments_lexer": "ipython2",
   "version": "2.7.12"
  }
 },
 "nbformat": 4,
 "nbformat_minor": 0
}
