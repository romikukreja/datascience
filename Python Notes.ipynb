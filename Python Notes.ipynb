{
 "cells": [
  {
   "cell_type": "markdown",
   "metadata": {},
   "source": [
    "# Visualization Tools\n",
    "\n",
    "http://pbpython.com/visualization-tools-1.html\n",
    "\n",
    "\n",
    "In my view, each library has its own distinct purpose:\n",
    "\n",
    "1) matplotlib is for basic plotting -- bars, pies, lines, scatter plots, etc.\n",
    "\n",
    "2) Seaborn is for statistical visualization -- use it if you're creating heatmaps or somehow summarizing your data and still want to show the distribution of your data\n",
    "\n",
    "Seaborn is really just a wrapper around Matplotlib, which adds a few chart types and improves the default styles. Even if you're just doing matplotlib.pyplot.plot(data), putting import seaborn at the top will make things look much nicer :)\n",
    "\n",
    "Pandas (which you probably will be using) also provides high level access to matplotlib through the dataframe.plot() function.\n",
    "\n",
    "I use numpy, pandas, matplotlib and seaborn, and I rarely have to call matplotlib functions directly because seaborn and pandas handles most of it for me.\n",
    "\n",
    "3) Bokeh is for interactive visualization -- if your data is so complex (or you haven't yet found the \"message\" in your data), then use Bokeh to create interactive visualizations that will allow your viewers to explore the data themselves\n",
    "\n",
    "4) Plotly\n",
    "\n"
   ]
  }
 ],
 "metadata": {
  "kernelspec": {
   "display_name": "Python [Root]",
   "language": "python",
   "name": "Python [Root]"
  },
  "language_info": {
   "codemirror_mode": {
    "name": "ipython",
    "version": 2
   },
   "file_extension": ".py",
   "mimetype": "text/x-python",
   "name": "python",
   "nbconvert_exporter": "python",
   "pygments_lexer": "ipython2",
   "version": "2.7.12"
  },
  "nbpresent": {
   "slides": {},
   "themes": {
    "default": "206224a3-3f01-4871-88f0-5f566807269c",
    "theme": {}
   }
  }
 },
 "nbformat": 4,
 "nbformat_minor": 0
}
