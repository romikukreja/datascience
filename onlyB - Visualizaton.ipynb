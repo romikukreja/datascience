{
 "cells": [
  {
   "cell_type": "code",
   "execution_count": 1,
   "metadata": {
    "collapsed": false
   },
   "outputs": [
    {
     "data": {
      "text/plain": [
       "Number                  1.443390e+04\n",
       "Customer Id             1.713413e+04\n",
       "State                            NaN\n",
       "StateFull                        NaN\n",
       "TelephoneCountryCode    0.000000e+00\n",
       "Age                     1.932524e+01\n",
       "CCNumber                3.768787e+14\n",
       "CVV2                    2.883852e+02\n",
       "WesternUnionMTCN        2.881142e+09\n",
       "MoneyGramMTCN           2.880565e+07\n",
       "Pounds                  3.553501e+01\n",
       "Kilograms               1.615228e+01\n",
       "Centimeters             9.592254e+00\n",
       "Latitude                2.168790e+00\n",
       "Longitude               1.799441e+00\n",
       "dtype: float64"
      ]
     },
     "execution_count": 1,
     "metadata": {},
     "output_type": "execute_result"
    }
   ],
   "source": [
    "import pandas as pd\n",
    "df = pd.read_csv(\"D:\\Downloads\\Fake Data\\Cust.csv\")\n",
    "#df.describe()\n",
    "#len(df)\n",
    "#df.head()\n",
    "# Rename columns if required df.columns = [\"volts_1\", \"time_1\", \"volts_2\", \"volts_2\", \"time_2\", \"volts_4\"]\n",
    "#df.head(1)\n",
    "#df.Age.head(2)\n",
    "df.std()"
   ]
  },
  {
   "cell_type": "code",
   "execution_count": null,
   "metadata": {
    "collapsed": true
   },
   "outputs": [],
   "source": []
  }
 ],
 "metadata": {
  "anaconda-cloud": {},
  "kernelspec": {
   "display_name": "Python [Root]",
   "language": "python",
   "name": "Python [Root]"
  },
  "language_info": {
   "codemirror_mode": {
    "name": "ipython",
    "version": 2
   },
   "file_extension": ".py",
   "mimetype": "text/x-python",
   "name": "python",
   "nbconvert_exporter": "python",
   "pygments_lexer": "ipython2",
   "version": "2.7.12"
  }
 },
 "nbformat": 4,
 "nbformat_minor": 0
}
